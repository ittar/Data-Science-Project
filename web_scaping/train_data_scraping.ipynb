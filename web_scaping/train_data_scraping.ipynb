{
 "cells": [
  {
   "cell_type": "code",
   "execution_count": 1,
   "metadata": {},
   "outputs": [],
   "source": [
    "from bs4 import BeautifulSoup\n",
    "import csv\n",
    "import pandas as pd"
   ]
  },
  {
   "cell_type": "code",
   "execution_count": 2,
   "metadata": {},
   "outputs": [],
   "source": [
    "htmls = [\n",
    "    'web/agricultural.html',\n",
    "    'web/biochemistry.html',\n",
    "    'web/chemicalEngineering.html',\n",
    "    'web/chemistry.html',\n",
    "    'web/computerScience.html',\n",
    "    'web/energy.html',\n",
    "    'web/engineering.html',\n",
    "    'web/environmentalScience.html',\n",
    "    'web/immunologyAndMicrobiology.html',\n",
    "    'web/materialsScience.html',\n",
    "    'web/mathematics.html',\n",
    "    'web/medicine.html',\n",
    "    'web/multidisciplinary.html',\n",
    "    'web/pharmacology.html',\n",
    "    'web/physicsAndAstronomy.html',\n",
    "    'web/socialScience.html'\n",
    "]"
   ]
  },
  {
   "cell_type": "code",
   "execution_count": 6,
   "metadata": {},
   "outputs": [
    {
     "name": "stdout",
     "output_type": "stream",
     "text": [
      "100\n",
      "100\n",
      "100\n",
      "100\n",
      "100\n",
      "100\n",
      "100\n",
      "100\n",
      "100\n",
      "100\n",
      "100\n",
      "100\n",
      "100\n",
      "100\n",
      "100\n",
      "100\n",
      "100\n",
      "100\n",
      "100\n",
      "100\n",
      "100\n",
      "100\n",
      "100\n",
      "100\n",
      "100\n",
      "100\n",
      "100\n",
      "100\n",
      "100\n",
      "100\n",
      "100\n",
      "100\n"
     ]
    }
   ],
   "source": [
    "for html in htmls:\n",
    "    with open(\"../\" + html, 'r', encoding='utf-8') as file:\n",
    "        html_content = file.read()\n",
    "    file.close()\n",
    "\n",
    "    soup = BeautifulSoup(html_content, 'html.parser')\n",
    "\n",
    "    x = soup.find_all('tr', class_='TableItems-module__m0Z0b TableItems-module__A6xTk')\n",
    "    y = soup.find_all('tr', class_='TableItems-module__m0Z0b TableItems-module__HJOVM')\n",
    "\n",
    "    print(len(x))\n",
    "    print(len(y))"
   ]
  }
 ],
 "metadata": {
  "kernelspec": {
   "display_name": "Python 3",
   "language": "python",
   "name": "python3"
  },
  "language_info": {
   "codemirror_mode": {
    "name": "ipython",
    "version": 3
   },
   "file_extension": ".py",
   "mimetype": "text/x-python",
   "name": "python",
   "nbconvert_exporter": "python",
   "pygments_lexer": "ipython3",
   "version": "3.10.6"
  }
 },
 "nbformat": 4,
 "nbformat_minor": 2
}
