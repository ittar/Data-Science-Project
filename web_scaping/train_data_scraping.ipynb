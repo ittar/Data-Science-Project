{
 "cells": [
  {
   "cell_type": "code",
   "execution_count": null,
   "metadata": {},
   "outputs": [],
   "source": [
    "htmls = [\n",
    "    'web/agricultural.html',\n",
    "    'web/biochemistry.html',\n",
    "    'web/chemicalEngineering.html',\n",
    "    'web/chemistry.html',\n",
    "    'web/computerScience.html',\n",
    "    'web/energy.html',\n",
    "    'web/engineering.html',\n",
    "    'web/environmentalScience.html',\n",
    "    'web/immunologyAndMicrobiology.html',\n",
    "    'web/materialsScience.html',\n",
    "    'web/mathematics.html',\n",
    "    'web/medicine.html',\n",
    "    'web/multidisciplinary.html',\n",
    "    'web/pharmacology.html',\n",
    "    'web/physicsAndAstronomy.html',\n",
    "    'web/socialScience.html'\n",
    "]"
   ]
  },
  {
   "cell_type": "code",
   "execution_count": null,
   "metadata": {},
   "outputs": [],
   "source": [
    "len(htmls)"
   ]
  }
 ],
 "metadata": {
  "language_info": {
   "name": "python"
  }
 },
 "nbformat": 4,
 "nbformat_minor": 2
}
