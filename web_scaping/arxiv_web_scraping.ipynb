{
 "cells": [
  {
   "cell_type": "code",
   "execution_count": 1,
   "metadata": {},
   "outputs": [],
   "source": [
    "from bs4 import BeautifulSoup\n",
    "import csv\n",
    "import pandas as pd\n",
    "import requests"
   ]
  },
  {
   "cell_type": "code",
   "execution_count": 2,
   "metadata": {},
   "outputs": [],
   "source": [
    "htmls = ['acceleratorPhysics.html', 'adaptationAndSelf-OrganizingSystems.html', 'algebraicGeometry.html', 'algebraicTopology.html', 'analysisOfPDEs.html', 'applications.html', 'appliedPhysics.html', 'artificialIntelligence.html', 'astrophysicsOfGalaxies.html', 'atmosphericAndOceanicPhysics.html', 'atomicAndMolecularClusters.html', 'atomicPhysics.html', 'audioAndSpeechProcessing.html', 'biologicalPhysics.html', 'biomolecules.html', 'categoryTheory.html', 'cellBehavior.html', 'cellularAutomataAndLatticeGases.html', 'chaoticDynamics.html', 'chemicalPhysics.html', 'classicalAnalysisAndODEs.html', 'classicalPhysics.html', 'combinatorics.html', 'commutativeAlgebra.html', 'complexVariables.html', 'computation.html', 'computationalComplexity.html', 'computationalEngineering,Finance,AndScience.html', 'computationalFinance.html', 'computationalGeometry.html', 'computationalPhysics.html', 'computationAndLanguage.html', 'computersAndSociety.html', 'computerScience.html', 'computerScienceAndGameTheory.html', 'computerVisionAndPatternRecognition.html', 'cosmologyAndNongalacticAstrophysics.html', 'cryptographyAndSecurity.html', 'dataAnalysis,StatisticsAndProbability.html', 'databases.html', 'dataStructuresAndAlgorithms.html', 'differentialGeometry.html', 'digitalLibraries.html', 'discreteMathematics.html', 'disorderedSystemsAndNeuralNetworks.html', 'distributed,Parallel,AndClusterComputing.html', 'dynamicalSystems.html', 'earthAndPlanetaryAstrophysics.html', 'econometrics.html', 'economics.html', 'electricalEngineeringAndSystemsScience.html', 'emergingTechnologies.html', 'exactlySolvableAndIntegrableSystems.html', 'fluidDynamics.html', 'formalLanguagesAndAutomataTheory.html', 'functionalAnalysis.html', 'generalEconomics.html', 'generalFinance.html', 'generalLiterature.html', 'generalMathematics.html', 'generalPhysics.html', 'generalRelativityAndQuantumCosmology.html', 'generalTopology.html', 'genomics.html', 'geometricTopology.html', 'geophysics.html', 'graphics.html', 'groupTheory.html', 'hardwareArchitecture.html', 'highEnergyAstrophysicalPhenomena.html', 'highEnergyPhysics-Experiment.html', 'highEnergyPhysics-Lattice.html', 'highEnergyPhysics-Phenomenology.html', 'highEnergyPhysics-Theory.html', 'historyAndOverview.html', 'historyAndPhilosophyOfPhysics.html', 'human-ComputerInteraction.html', 'imageAndVideoProcessing.html', 'informationRetrieval.html', 'informationTheory.html', 'instrumentationAndDetectors.html', 'instrumentationAndMethodsForAstrophysics.html', 'K-TheoryAndHomology.html', 'logic.html', 'logicInComputerScience.html', 'machineLearning.html', 'materialsScience.html', 'mathematicalFinance.html', 'mathematicalPhysics.html', 'mathematicalSoftware.html', 'mathematics.html', 'medicalPhysics.html', 'mesoscaleAndNanoscalePhysics.html', 'methodology.html', 'metricGeometry.html', 'molecularNetworks.html', 'multiagentSystems.html', 'multimedia.html', 'networkingAndInternetArchitecture.html', 'neuralAndEvolutionaryComputing.html', 'neuronsAndCognition.html', 'nonlinearSciences.html', 'nuclearExperiment.html', 'nuclearTheory.html', 'numberTheory.html', 'numericalAnalysis.html', 'operatingSystems.html', 'operatorAlgebras.html', 'optics.html', 'optimizationAndControl.html', 'otherComputerScience.html', 'otherCondensedMatter.html', 'otherQuantitativeBiology.html', 'otherStatistics.html', 'patternFormationAndSolitons.html', 'performance.html', 'physics.html', 'physicsAndSociety.html', 'physicsEducation.html', 'plasmaPhysics.html', 'popularPhysics.html', 'populationsAndEvolution.html', 'portfolioManagement.html', 'pricingOfSecurities.html', 'probability.html', 'programmingLanguages.html', 'quantitativeBiology.html', 'quantitativeFinance.html', 'quantitativeMethods.html', 'quantumAlgebra.html', 'quantumGases.html', 'quantumPhysics.html', 'representationTheory.html', 'ringsAndAlgebras.html', 'riskManagement.html', 'robotics.html', 'signalProcessing.html', 'socialAndInformationNetworks.html', 'softCondensedMatter.html', 'softwareEngineering.html', 'solarAndStellarAstrophysics.html', 'sound.html', 'spacePhysics.html', 'spectralTheory.html', 'statisticalFinance.html', 'statisticalMechanics.html', 'statistics.html', 'statisticsTheory.html', 'stronglyCorrelatedElectrons.html', 'subcellularProcesses.html', 'superconductivity.html', 'symbolicComputation.html', 'symplecticGeometry.html', 'systemsAndControl.html', 'theoreticalEconomics.html', 'tissuesAndOrgans.html', 'tradingAndMarketMicrostructure.html']"
   ]
  },
  {
   "cell_type": "code",
   "execution_count": 36,
   "metadata": {},
   "outputs": [],
   "source": [
    "def month_to_int(month_abbr):\n",
    "    # Dictionary mapping month abbreviations to integers\n",
    "    month_dict = {\n",
    "        'Jan': 1, 'Feb': 2, 'Mar': 3, 'Apr': 4,\n",
    "        'May': 5, 'Jun': 6, 'Jul': 7, 'Aug': 8,\n",
    "        'Sep': 9, 'Oct': 10, 'Nov': 11, 'Dec': 12\n",
    "    }\n",
    "    # Convert the month abbreviation to its corresponding integer\n",
    "    return month_dict.get(month_abbr, None)"
   ]
  },
  {
   "cell_type": "code",
   "execution_count": 38,
   "metadata": {},
   "outputs": [
    {
     "name": "stdout",
     "output_type": "stream",
     "text": [
      "6\n",
      "5\n",
      "2024\n",
      "------------------\n",
      "6\n",
      "5\n",
      "2024\n",
      "------------------\n",
      "4\n",
      "5\n",
      "2024\n",
      "------------------\n",
      "2\n",
      "5\n",
      "2024\n",
      "------------------\n",
      "1\n",
      "5\n",
      "2024\n",
      "------------------\n",
      "30\n",
      "4\n",
      "2024\n",
      "------------------\n",
      "30\n",
      "4\n",
      "2024\n",
      "------------------\n",
      "1\n",
      "5\n",
      "2024\n",
      "------------------\n",
      "30\n",
      "4\n",
      "2024\n",
      "------------------\n",
      "30\n",
      "4\n",
      "2024\n",
      "------------------\n",
      "30\n",
      "4\n",
      "2024\n",
      "------------------\n",
      "29\n",
      "4\n",
      "2024\n",
      "------------------\n",
      "6\n",
      "5\n",
      "2024\n",
      "------------------\n",
      "4\n",
      "5\n",
      "2024\n",
      "------------------\n",
      "3\n",
      "5\n",
      "2024\n",
      "------------------\n",
      "3\n",
      "5\n",
      "2024\n",
      "------------------\n",
      "2\n",
      "5\n",
      "2024\n",
      "------------------\n",
      "2\n",
      "5\n",
      "2024\n",
      "------------------\n"
     ]
    },
    {
     "ename": "ValueError",
     "evalue": "invalid literal for int() with base 10: '(this'",
     "output_type": "error",
     "traceback": [
      "\u001b[1;31m---------------------------------------------------------------------------\u001b[0m",
      "\u001b[1;31mValueError\u001b[0m                                Traceback (most recent call last)",
      "Cell \u001b[1;32mIn[38], line 19\u001b[0m\n\u001b[0;32m     16\u001b[0m data \u001b[38;5;241m=\u001b[39m sub_soup\u001b[38;5;241m.\u001b[39mfind(\u001b[38;5;124m'\u001b[39m\u001b[38;5;124mdiv\u001b[39m\u001b[38;5;124m'\u001b[39m, \u001b[38;5;28mid\u001b[39m\u001b[38;5;241m=\u001b[39m\u001b[38;5;124m'\u001b[39m\u001b[38;5;124mcontent-inner\u001b[39m\u001b[38;5;124m'\u001b[39m)\n\u001b[0;32m     17\u001b[0m date \u001b[38;5;241m=\u001b[39m data\u001b[38;5;241m.\u001b[39mfind(\u001b[38;5;124m'\u001b[39m\u001b[38;5;124mdiv\u001b[39m\u001b[38;5;124m'\u001b[39m, class_\u001b[38;5;241m=\u001b[39m\u001b[38;5;124m\"\u001b[39m\u001b[38;5;124mdateline\u001b[39m\u001b[38;5;124m\"\u001b[39m)\u001b[38;5;241m.\u001b[39mget_text()\u001b[38;5;241m.\u001b[39mstrip()[\u001b[38;5;241m1\u001b[39m:\u001b[38;5;241m-\u001b[39m\u001b[38;5;241m1\u001b[39m]\u001b[38;5;241m.\u001b[39msplit(\u001b[38;5;124m\"\u001b[39m\u001b[38;5;124m \u001b[39m\u001b[38;5;124m\"\u001b[39m)\n\u001b[1;32m---> 19\u001b[0m day \u001b[38;5;241m=\u001b[39m \u001b[38;5;28;43mint\u001b[39;49m\u001b[43m(\u001b[49m\u001b[43mdate\u001b[49m\u001b[43m[\u001b[49m\u001b[38;5;241;43m-\u001b[39;49m\u001b[38;5;241;43m3\u001b[39;49m\u001b[43m]\u001b[49m\u001b[43m)\u001b[49m\n\u001b[0;32m     20\u001b[0m month \u001b[38;5;241m=\u001b[39m month_to_int(date[\u001b[38;5;241m-\u001b[39m\u001b[38;5;241m2\u001b[39m])\n\u001b[0;32m     21\u001b[0m year \u001b[38;5;241m=\u001b[39m date[\u001b[38;5;241m-\u001b[39m\u001b[38;5;241m1\u001b[39m]\n",
      "\u001b[1;31mValueError\u001b[0m: invalid literal for int() with base 10: '(this'"
     ]
    }
   ],
   "source": [
    "i = 0\n",
    "for html in htmls:\n",
    "    with open(\"../arxiv/\" + html, 'r', encoding='utf-8') as file:\n",
    "        html_content = file.read()\n",
    "    file.close()\n",
    "\n",
    "    soup = BeautifulSoup(html_content, 'html.parser')\n",
    "\n",
    "    all_dts = soup.find_all('dt')\n",
    "    for dt in all_dts:\n",
    "        ref = dt.find('a', title = 'Abstract')['href']\n",
    "        \n",
    "        sub_ref = 'https://arxiv.org/' + ref\n",
    "        response = requests.get(sub_ref)\n",
    "        sub_soup = BeautifulSoup(response.content, 'html.parser')\n",
    "        data = sub_soup.find('div', id='content-inner')\n",
    "        date = data.find('div', class_=\"dateline\").get_text().strip()[1:-1].split(\" \")\n",
    "\n",
    "        day = int(date[-3])\n",
    "        month = month_to_int(date[-2])\n",
    "        year = date[-1]\n",
    "        \n",
    "        h1_tag = sub_soup.find('h1', class_='title mathjax')\n",
    "        span_tag = h1_tag.find('span', class_='descriptor')\n",
    "        title = h1_tag.get_text(separator='', strip=True)\n",
    "        title = title.replace(span_tag.text, '')\n",
    "        \n",
    "        h1_tag = sub_soup.find('blockquote', class_='abstract mathjax')\n",
    "        span_tag = h1_tag.find('span', class_='descriptor')\n",
    "        abstract = h1_tag.get_text(separator='', strip=True)\n",
    "        abstract = title.replace(span_tag.text, '')\n",
    "\n",
    "        with open('arxiv_data.csv', 'a', newline='', encoding='utf-8') as file:\n",
    "            writer = csv.writer(file)\n",
    "            writer.writerow([title, abstract, day, month, year])"
   ]
  }
 ],
 "metadata": {
  "kernelspec": {
   "display_name": "Python 3",
   "language": "python",
   "name": "python3"
  },
  "language_info": {
   "codemirror_mode": {
    "name": "ipython",
    "version": 3
   },
   "file_extension": ".py",
   "mimetype": "text/x-python",
   "name": "python",
   "nbconvert_exporter": "python",
   "pygments_lexer": "ipython3",
   "version": "3.10.6"
  }
 },
 "nbformat": 4,
 "nbformat_minor": 2
}
