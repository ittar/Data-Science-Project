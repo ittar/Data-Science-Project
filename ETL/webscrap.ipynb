{
 "cells": [
  {
   "cell_type": "code",
   "execution_count": 1,
   "metadata": {},
   "outputs": [],
   "source": [
    "import pandas as pd\n",
    "import json\n",
    "import csv"
   ]
  },
  {
   "cell_type": "code",
   "execution_count": 2,
   "metadata": {},
   "outputs": [],
   "source": [
    "t1 = [\"2018/\" + str(i) for i in range(201800000,201802792)]\n",
    "t2 = [\"2019/\" + str(i) for i in range(201900000,201903082)]\n",
    "t3 = [\"2020/\" + str(i) for i in range(202000000,202003393)]\n",
    "t4 = [\"2021/\" + str(i) for i in range(202100000,202103815)]\n",
    "t5 = [\"2022/\" + str(i) for i in range(202200000,202204244)]\n",
    "t6 = [\"2023/\" + str(i) for i in range(202300000,202302890)]\n",
    "\n",
    "t = t1 + t2 + t3 + t4 + t5 + t6"
   ]
  },
  {
   "cell_type": "code",
   "execution_count": 3,
   "metadata": {},
   "outputs": [
    {
     "data": {
      "text/plain": [
       "20216"
      ]
     },
     "execution_count": 3,
     "metadata": {},
     "output_type": "execute_result"
    }
   ],
   "source": [
    "len(t)"
   ]
  },
  {
   "cell_type": "code",
   "execution_count": 43,
   "metadata": {},
   "outputs": [
    {
     "ename": "TypeError",
     "evalue": "list indices must be integers or slices, not str",
     "output_type": "error",
     "traceback": [
      "\u001b[1;31m---------------------------------------------------------------------------\u001b[0m",
      "\u001b[1;31mTypeError\u001b[0m                                 Traceback (most recent call last)",
      "Cell \u001b[1;32mIn[43], line 16\u001b[0m\n\u001b[0;32m     14\u001b[0m         authors \u001b[38;5;241m=\u001b[39m [x \u001b[38;5;28;01mfor\u001b[39;00m x \u001b[38;5;129;01min\u001b[39;00m group[\u001b[38;5;124m'\u001b[39m\u001b[38;5;124mauthor\u001b[39m\u001b[38;5;124m'\u001b[39m][\u001b[38;5;124m'\u001b[39m\u001b[38;5;124mce:indexed-name\u001b[39m\u001b[38;5;124m'\u001b[39m]]\n\u001b[0;32m     15\u001b[0m     \u001b[38;5;28;01melse\u001b[39;00m:\n\u001b[1;32m---> 16\u001b[0m         authors\u001b[38;5;241m.\u001b[39mappend(\u001b[43mgroup\u001b[49m\u001b[43m[\u001b[49m\u001b[38;5;124;43m'\u001b[39;49m\u001b[38;5;124;43mauthor\u001b[39;49m\u001b[38;5;124;43m'\u001b[39;49m\u001b[43m]\u001b[49m\u001b[43m[\u001b[49m\u001b[38;5;124;43m'\u001b[39;49m\u001b[38;5;124;43mce:indexed-name\u001b[39;49m\u001b[38;5;124;43m'\u001b[39;49m\u001b[43m]\u001b[49m)\n\u001b[0;32m     17\u001b[0m author_keywords \u001b[38;5;241m=\u001b[39m [keyword[\u001b[38;5;124m'\u001b[39m\u001b[38;5;124m$\u001b[39m\u001b[38;5;124m'\u001b[39m] \u001b[38;5;28;01mfor\u001b[39;00m keyword \u001b[38;5;129;01min\u001b[39;00m data[\u001b[38;5;124m'\u001b[39m\u001b[38;5;124mabstracts-retrieval-response\u001b[39m\u001b[38;5;124m'\u001b[39m][\u001b[38;5;124m'\u001b[39m\u001b[38;5;124mitem\u001b[39m\u001b[38;5;124m'\u001b[39m]\u001b[38;5;241m.\u001b[39mget(\u001b[38;5;124m'\u001b[39m\u001b[38;5;124mauthkeywords\u001b[39m\u001b[38;5;124m'\u001b[39m, {})\u001b[38;5;241m.\u001b[39mget(\u001b[38;5;124m'\u001b[39m\u001b[38;5;124mauthor-keyword\u001b[39m\u001b[38;5;124m'\u001b[39m, [])]\n\u001b[0;32m     18\u001b[0m reference_authors \u001b[38;5;241m=\u001b[39m []\n",
      "\u001b[1;31mTypeError\u001b[0m: list indices must be integers or slices, not str"
     ]
    }
   ],
   "source": [
    "i = 0\n",
    "for dir in t:\n",
    "    f = open('../data/' + dir)\n",
    "    data = json.load(f)\n",
    "    f.close()\n",
    "\n",
    "    #main csv file\n",
    "    title = data['abstracts-retrieval-response']['item']['bibrecord']['head']['citation-title']\n",
    "    abstract = data['abstracts-retrieval-response']['item']['bibrecord']['head']['abstracts']\n",
    "    public_date = data['abstracts-retrieval-response']['item']['ait:process-info']['ait:date-delivered']['@timestamp']\n",
    "    authors = []\n",
    "    for group in data['abstracts-retrieval-response']['item']['bibrecord']['head']['author-group']['author']:\n",
    "        if (type(group) == list):\n",
    "            authors = [x for x in group['ce:indexed-name']]\n",
    "        else:\n",
    "            authors.append(group['ce:indexed-name'])\n",
    "    author_keywords = [keyword['$'] for keyword in data['abstracts-retrieval-response']['item'].get('authkeywords', {}).get('author-keyword', [])]\n",
    "    reference_authors = []\n",
    "    for reference in data['abstracts-retrieval-response']['item']['bibrecord']['tail']['bibliography']['reference']:\n",
    "        if 'ref-authors' in reference.get('ref-info', {}):\n",
    "            for author in reference['ref-info']['ref-authors'].get('author', []):\n",
    "                reference_authors.append(author.get('ce:indexed-name', ''))\n",
    "\n",
    "    abbrev = set()\n",
    "    for subject in data['abstracts-retrieval-response']['subject-areas']['subject-area']:\n",
    "        abbrev.add(subject['@abbrev'])\n",
    "\n",
    "    abbrev = list(abbrev)\n",
    "\n",
    "    with open('main_file.csv', 'a', newline='') as file:\n",
    "        writer = csv.writer(file)\n",
    "        writer.writerow([title, abstract, public_date, authors, author_keywords, reference_authors, abbrev])\n",
    "\n",
    "    #author to allications file\n",
    "    author_affiliation_data = []\n",
    "    for group in data['abstracts-retrieval-response']['item']['bibrecord']['head']['author-group']:\n",
    "        for aut in group['author']:\n",
    "            author_affiliation_data.append([aut['preferred-name']['ce:indexed-name'], group['affiliation']['@afid']])\n",
    "\n",
    "    with open('author2afflication.csv', 'a', newline='') as file:\n",
    "        writer = csv.writer(file)\n",
    "        writer.writerows(author_affiliation_data)\n",
    "\n",
    "    #afflication file\n",
    "    affiliation_data = []\n",
    "    for group in data['abstracts-retrieval-response']['item']['bibrecord']['head']['author-group']:\n",
    "        #for affiliation in group['affiliation']:\n",
    "        country = group['affiliation']['country']\n",
    "        city = group['affiliation']['city']\n",
    "        organizations = []\n",
    "        if (type(group['affiliation']['organization']) == list):\n",
    "            for org in group['affiliation']['organization']:\n",
    "                organizations.append(org['$'])\n",
    "        else:\n",
    "            organizations.append(org['$'])\n",
    "        afid = group['affiliation']['@afid']\n",
    "        affiliation_data.append([afid, country, city, organizations])\n",
    "\n",
    "    with open('afflication.csv', 'a', newline='') as file:\n",
    "        writer = csv.writer(file)\n",
    "        writer.writerows(affiliation_data)\n",
    "\n",
    "    #reference file\n",
    "    reference_data = []\n",
    "    for reference in data['abstracts-retrieval-response']['item']['bibrecord']['tail']['bibliography']['reference']:\n",
    "        ref_info = reference['ref-info']\n",
    "        if 'ref-website' in ref_info:\n",
    "            website_data = ref_info['ref-website']\n",
    "            if isinstance(website_data, list):\n",
    "                for website in website_data:\n",
    "                    attributes = list(website.keys())\n",
    "                    link = website['$']\n",
    "                    reference_data.append(attributes + [link])\n",
    "            else:\n",
    "                attributes = list(website_data.keys())\n",
    "                link = website_data['ce:e-address']['$']\n",
    "                reference_data.append(attributes + [link])\n",
    "\n",
    "    with open('reference.csv', 'a', newline='') as file:\n",
    "        writer = csv.writer(file)\n",
    "        writer.writerows(reference_data)\n",
    "\n",
    "    i += 1\n",
    "    if (i % 256 == 0):\n",
    "        print(i + \" files read successfully\")"
   ]
  },
  {
   "cell_type": "markdown",
   "metadata": {},
   "source": []
  }
 ],
 "metadata": {
  "kernelspec": {
   "display_name": "Python 3",
   "language": "python",
   "name": "python3"
  },
  "language_info": {
   "codemirror_mode": {
    "name": "ipython",
    "version": 3
   },
   "file_extension": ".py",
   "mimetype": "text/x-python",
   "name": "python",
   "nbconvert_exporter": "python",
   "pygments_lexer": "ipython3",
   "version": "3.10.6"
  }
 },
 "nbformat": 4,
 "nbformat_minor": 2
}
